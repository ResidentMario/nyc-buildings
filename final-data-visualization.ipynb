{
 "cells": [
  {
   "cell_type": "code",
   "execution_count": 5,
   "metadata": {
    "collapsed": false
   },
   "outputs": [],
   "source": [
    "import pandas as pd\n",
    "import geojson\n",
    "import ast\n",
    "# from bokeh.models.sources import ColumnDataSource"
   ]
  },
  {
   "cell_type": "markdown",
   "metadata": {},
   "source": [
    "    cd Desktop\n",
    "    activate nyc-buildings\n",
    "    jupyter notebook"
   ]
  },
  {
   "cell_type": "code",
   "execution_count": 3,
   "metadata": {
    "collapsed": false,
    "scrolled": true
   },
   "outputs": [],
   "source": [
    "mepl = pd.read_pickle('most_enumerate_private_landowners.p')\n",
    "wpl = pd.read_pickle('wealthiest_private_landowners.p')\n",
    "lpl = pd.read_pickle('largest_private_landowners.p')"
   ]
  },
  {
   "cell_type": "code",
   "execution_count": 39,
   "metadata": {
    "collapsed": false
   },
   "outputs": [],
   "source": [
    "for (entity, location_set) in zip(mepl['Owner'], mepl['Places']):\n",
    "    features = []\n",
    "    for address, (latitude, longitude) in ast.literal_eval(location_set).items():\n",
    "        features.append(geojson.Feature(geometry=geojson.Point((longitude, latitude)), properties={'address': address}))\n",
    "        # print(entity, address, latitude, longitude)\n",
    "    with open('geojson/' + entity + '.geojson', 'w') as file:\n",
    "        file.write(geojson.dumps(geojson.FeatureCollection(features), sort_keys=True))"
   ]
  },
  {
   "cell_type": "code",
   "execution_count": 37,
   "metadata": {
    "collapsed": false
   },
   "outputs": [
    {
     "name": "stdout",
     "output_type": "stream",
     "text": [
      " Volume in drive C is SSD_80GB\n",
      " Volume Serial Number is 9279-00B2\n",
      "\n",
      " Directory of C:\\Users\\Alex\\Desktop\\nyc-buildings\\geojson\n",
      "\n",
      "05/23/2016  04:30 PM    <DIR>          .\n",
      "05/23/2016  04:30 PM    <DIR>          ..\n",
      "05/23/2016  04:30 PM               184 Baiano Development LLC.geojson\n",
      "05/23/2016  04:30 PM               193 Casa Mason Corporation.geojson\n",
      "05/23/2016  04:30 PM               190 Clinton Graham.geojson\n",
      "05/23/2016  04:30 PM               189 Consolidated Edison Company.geojson\n",
      "05/23/2016  04:30 PM               183 Duestche Bank National Trust.geojson\n",
      "05/23/2016  04:30 PM               187 Greater New York Conference of Seventh-day Adventists.geojson\n",
      "05/23/2016  04:30 PM               185 Housing Partnership Development Corporation.geojson\n",
      "05/23/2016  04:30 PM               188 Hpeny Housing Development Fund Company.geojson\n",
      "05/23/2016  04:30 PM               196 Maguire Avenue Realty.geojson\n",
      "05/23/2016  04:30 PM               184 Mg Richmond LLC.geojson\n",
      "05/23/2016  04:30 PM               192 New York Garden Trust.geojson\n",
      "05/23/2016  04:30 PM               189 New York University.geojson\n",
      "05/23/2016  04:30 PM               177 Northeastern Conference of Seventh-Day Adventists.geojson\n",
      "05/23/2016  04:30 PM               191 Prol Properties Corporation.geojson\n",
      "05/23/2016  04:30 PM               193 Roman Catholic Church.geojson\n",
      "05/23/2016  04:30 PM               186 Silvershore Properties.geojson\n",
      "05/23/2016  04:30 PM               190 Spring Creek Nehemaih.geojson\n",
      "05/23/2016  04:30 PM               193 Trustees Of Columbia.geojson\n",
      "05/23/2016  04:30 PM               186 U.S. Bank National Association.geojson\n",
      "05/23/2016  04:30 PM               184 Yeshiva University.geojson\n",
      "              20 File(s)          3,760 bytes\n",
      "               2 Dir(s)   9,684,250,624 bytes free\n"
     ]
    }
   ],
   "source": [
    "%ls geojson"
   ]
  },
  {
   "cell_type": "code",
   "execution_count": 7,
   "metadata": {
    "collapsed": false
   },
   "outputs": [
    {
     "ename": "ValueError",
     "evalue": "malformed node or string: Rank\n1     {'424 WEST 119 STREET': [40.8083353, -73.95926...\n2     {'46-57 189 STREET': [40.751233, -73.790279], ...\n3     {'751 VANDALIA AVENUE': [40.6574606, -73.86942...\n4     {'115-50 MERRICK BOULEVARD': [40.6884892, -73....\n5     {'2383 HOFFMAN STREET': [40.855681, -73.889064...\n6     {'51 WASHINGTON SQUARE S': [40.7304028, -73.99...\n7     {'419 EAST 36 STREET': [40.7449439, -73.97135]...\n8     {'15 SANTA MONICA LANE': [40.538236, -74.21239...\n9     {'328 FRANKLIN AVENUE': [40.687968, -73.957298...\n10    {'1010 BAYCHESTER AVENUE': [40.8803043, -73.83...\n11    {'341 SARATOGA AVENUE': [40.67401, -73.916372]...\n12    {'226 JEROME STREET': [40.6763911, -73.8877469...\n13    {'78 BURGUNDY LOOP': [42.871285, -78.761408899...\n14    {'1448 MYRTLE AVENUE': [40.6987986, -73.916827...\n15    {'2475 AMSTERDAM AVENUE': [40.848954, -73.9297...\n16    {'189 MASON BOULEVARD': [40.54410499999999, -7...\n17    {'106-36 SUTPHIN BOULEVARD': [40.694239, -73.8...\n18    {'57 RIVERSIDE LANE': [40.7842864, -73.9833596...\n19    {'100 HAVEN AVENUE': [40.8445238, -73.9431959]...\n20    {'970 BELMONT AVENUE': [40.67377159999999, -73...\nName: Places, dtype: object",
     "output_type": "error",
     "traceback": [
      "\u001b[1;31m---------------------------------------------------------------------------\u001b[0m",
      "\u001b[1;31mValueError\u001b[0m                                Traceback (most recent call last)",
      "\u001b[1;32m<ipython-input-7-fc4b45de0119>\u001b[0m in \u001b[0;36m<module>\u001b[1;34m()\u001b[0m\n\u001b[1;32m----> 1\u001b[1;33m \u001b[0mast\u001b[0m\u001b[1;33m.\u001b[0m\u001b[0mliteral_eval\u001b[0m\u001b[1;33m(\u001b[0m\u001b[0mmepl\u001b[0m\u001b[1;33m[\u001b[0m\u001b[1;34m'Places'\u001b[0m\u001b[1;33m]\u001b[0m\u001b[1;33m)\u001b[0m\u001b[1;33m\u001b[0m\u001b[0m\n\u001b[0m",
      "\u001b[1;32mC:\\Users\\Alex\\Anaconda3\\envs\\nyc-buildings\\lib\\ast.py\u001b[0m in \u001b[0;36mliteral_eval\u001b[1;34m(node_or_string)\u001b[0m\n\u001b[0;32m     82\u001b[0m                 \u001b[1;32mreturn\u001b[0m \u001b[0mleft\u001b[0m \u001b[1;33m-\u001b[0m \u001b[0mright\u001b[0m\u001b[1;33m\u001b[0m\u001b[0m\n\u001b[0;32m     83\u001b[0m         \u001b[1;32mraise\u001b[0m \u001b[0mValueError\u001b[0m\u001b[1;33m(\u001b[0m\u001b[1;34m'malformed node or string: '\u001b[0m \u001b[1;33m+\u001b[0m \u001b[0mrepr\u001b[0m\u001b[1;33m(\u001b[0m\u001b[0mnode\u001b[0m\u001b[1;33m)\u001b[0m\u001b[1;33m)\u001b[0m\u001b[1;33m\u001b[0m\u001b[0m\n\u001b[1;32m---> 84\u001b[1;33m     \u001b[1;32mreturn\u001b[0m \u001b[0m_convert\u001b[0m\u001b[1;33m(\u001b[0m\u001b[0mnode_or_string\u001b[0m\u001b[1;33m)\u001b[0m\u001b[1;33m\u001b[0m\u001b[0m\n\u001b[0m\u001b[0;32m     85\u001b[0m \u001b[1;33m\u001b[0m\u001b[0m\n\u001b[0;32m     86\u001b[0m \u001b[1;33m\u001b[0m\u001b[0m\n",
      "\u001b[1;32mC:\\Users\\Alex\\Anaconda3\\envs\\nyc-buildings\\lib\\ast.py\u001b[0m in \u001b[0;36m_convert\u001b[1;34m(node)\u001b[0m\n\u001b[0;32m     81\u001b[0m             \u001b[1;32melse\u001b[0m\u001b[1;33m:\u001b[0m\u001b[1;33m\u001b[0m\u001b[0m\n\u001b[0;32m     82\u001b[0m                 \u001b[1;32mreturn\u001b[0m \u001b[0mleft\u001b[0m \u001b[1;33m-\u001b[0m \u001b[0mright\u001b[0m\u001b[1;33m\u001b[0m\u001b[0m\n\u001b[1;32m---> 83\u001b[1;33m         \u001b[1;32mraise\u001b[0m \u001b[0mValueError\u001b[0m\u001b[1;33m(\u001b[0m\u001b[1;34m'malformed node or string: '\u001b[0m \u001b[1;33m+\u001b[0m \u001b[0mrepr\u001b[0m\u001b[1;33m(\u001b[0m\u001b[0mnode\u001b[0m\u001b[1;33m)\u001b[0m\u001b[1;33m)\u001b[0m\u001b[1;33m\u001b[0m\u001b[0m\n\u001b[0m\u001b[0;32m     84\u001b[0m     \u001b[1;32mreturn\u001b[0m \u001b[0m_convert\u001b[0m\u001b[1;33m(\u001b[0m\u001b[0mnode_or_string\u001b[0m\u001b[1;33m)\u001b[0m\u001b[1;33m\u001b[0m\u001b[0m\n\u001b[0;32m     85\u001b[0m \u001b[1;33m\u001b[0m\u001b[0m\n",
      "\u001b[1;31mValueError\u001b[0m: malformed node or string: Rank\n1     {'424 WEST 119 STREET': [40.8083353, -73.95926...\n2     {'46-57 189 STREET': [40.751233, -73.790279], ...\n3     {'751 VANDALIA AVENUE': [40.6574606, -73.86942...\n4     {'115-50 MERRICK BOULEVARD': [40.6884892, -73....\n5     {'2383 HOFFMAN STREET': [40.855681, -73.889064...\n6     {'51 WASHINGTON SQUARE S': [40.7304028, -73.99...\n7     {'419 EAST 36 STREET': [40.7449439, -73.97135]...\n8     {'15 SANTA MONICA LANE': [40.538236, -74.21239...\n9     {'328 FRANKLIN AVENUE': [40.687968, -73.957298...\n10    {'1010 BAYCHESTER AVENUE': [40.8803043, -73.83...\n11    {'341 SARATOGA AVENUE': [40.67401, -73.916372]...\n12    {'226 JEROME STREET': [40.6763911, -73.8877469...\n13    {'78 BURGUNDY LOOP': [42.871285, -78.761408899...\n14    {'1448 MYRTLE AVENUE': [40.6987986, -73.916827...\n15    {'2475 AMSTERDAM AVENUE': [40.848954, -73.9297...\n16    {'189 MASON BOULEVARD': [40.54410499999999, -7...\n17    {'106-36 SUTPHIN BOULEVARD': [40.694239, -73.8...\n18    {'57 RIVERSIDE LANE': [40.7842864, -73.9833596...\n19    {'100 HAVEN AVENUE': [40.8445238, -73.9431959]...\n20    {'970 BELMONT AVENUE': [40.67377159999999, -73...\nName: Places, dtype: object"
     ]
    }
   ],
   "source": [
    "ast.literal_eval(mepl['Places'])"
   ]
  },
  {
   "cell_type": "code",
   "execution_count": null,
   "metadata": {
    "collapsed": false
   },
   "outputs": [],
   "source": [
    "# pd.read_csv(\"nyc_building_sales.csv\")"
   ]
  },
  {
   "cell_type": "code",
   "execution_count": null,
   "metadata": {
    "collapsed": false
   },
   "outputs": [],
   "source": [
    "# pd.read_pickle('most_enumerate_private_landowners.p').to_excel(\"most_enumerate_private_landowners.xls\")\n",
    "# pd.read_pickle('wealthiest_private_landowners.p').to_excel(\"wealthiest_private_landowners.xls\")\n",
    "# pd.read_pickle('largest_private_landowners.p').to_excel(\"largest_private_landowners.xls\")"
   ]
  },
  {
   "cell_type": "code",
   "execution_count": null,
   "metadata": {
    "collapsed": false,
    "scrolled": false
   },
   "outputs": [],
   "source": [
    "mepl[['Owner', 'Addresses']]"
   ]
  },
  {
   "cell_type": "code",
   "execution_count": null,
   "metadata": {
    "collapsed": false
   },
   "outputs": [],
   "source": [
    "wpl[['Owner', 'Total Value']]"
   ]
  },
  {
   "cell_type": "code",
   "execution_count": 11,
   "metadata": {
    "collapsed": false
   },
   "outputs": [
    {
     "data": {
      "text/html": [
       "<div>\n",
       "<table border=\"1\" class=\"dataframe\">\n",
       "  <thead>\n",
       "    <tr style=\"text-align: right;\">\n",
       "      <th></th>\n",
       "      <th>Owner</th>\n",
       "      <th>Sq. Footage</th>\n",
       "    </tr>\n",
       "    <tr>\n",
       "      <th>Rank</th>\n",
       "      <th></th>\n",
       "      <th></th>\n",
       "    </tr>\n",
       "  </thead>\n",
       "  <tbody>\n",
       "    <tr>\n",
       "      <th>1</th>\n",
       "      <td>Riverbay Corporation</td>\n",
       "      <td>21257474.0</td>\n",
       "    </tr>\n",
       "    <tr>\n",
       "      <th>2</th>\n",
       "      <td>Trustees Of Columbia</td>\n",
       "      <td>10405555.0</td>\n",
       "    </tr>\n",
       "    <tr>\n",
       "      <th>3</th>\n",
       "      <td>ST-DIL LLC</td>\n",
       "      <td>8942176.0</td>\n",
       "    </tr>\n",
       "    <tr>\n",
       "      <th>4</th>\n",
       "      <td>Starrett City, Inc.</td>\n",
       "      <td>8544670.0</td>\n",
       "    </tr>\n",
       "    <tr>\n",
       "      <th>5</th>\n",
       "      <td>Rochdale Village Inc</td>\n",
       "      <td>6996835.0</td>\n",
       "    </tr>\n",
       "    <tr>\n",
       "      <th>6</th>\n",
       "      <td>New York University</td>\n",
       "      <td>6370834.0</td>\n",
       "    </tr>\n",
       "    <tr>\n",
       "      <th>7</th>\n",
       "      <td>St. John's University</td>\n",
       "      <td>4687440.0</td>\n",
       "    </tr>\n",
       "    <tr>\n",
       "      <th>8</th>\n",
       "      <td>RCPI Landmark Properties LLC</td>\n",
       "      <td>4632189.0</td>\n",
       "    </tr>\n",
       "    <tr>\n",
       "      <th>9</th>\n",
       "      <td>New York-Presbyterian Hospital</td>\n",
       "      <td>4581586.0</td>\n",
       "    </tr>\n",
       "    <tr>\n",
       "      <th>10</th>\n",
       "      <td>North Shore Towers Apartments</td>\n",
       "      <td>3750565.0</td>\n",
       "    </tr>\n",
       "    <tr>\n",
       "      <th>11</th>\n",
       "      <td>Trinity Hudson Holdings</td>\n",
       "      <td>3694141.0</td>\n",
       "    </tr>\n",
       "    <tr>\n",
       "      <th>12</th>\n",
       "      <td>Parkchester South Condominiums</td>\n",
       "      <td>3681037.0</td>\n",
       "    </tr>\n",
       "    <tr>\n",
       "      <th>13</th>\n",
       "      <td>New Water Street Corporation</td>\n",
       "      <td>3583167.0</td>\n",
       "    </tr>\n",
       "    <tr>\n",
       "      <th>14</th>\n",
       "      <td>New York Convention Center Corporation</td>\n",
       "      <td>3567186.0</td>\n",
       "    </tr>\n",
       "    <tr>\n",
       "      <th>15</th>\n",
       "      <td>Mount Sinai Hospital</td>\n",
       "      <td>3382972.0</td>\n",
       "    </tr>\n",
       "    <tr>\n",
       "      <th>16</th>\n",
       "      <td>1-10 Bush Terminal Owner LP</td>\n",
       "      <td>3350373.0</td>\n",
       "    </tr>\n",
       "    <tr>\n",
       "      <th>17</th>\n",
       "      <td>SL Green Realty Corporation</td>\n",
       "      <td>3314077.0</td>\n",
       "    </tr>\n",
       "    <tr>\n",
       "      <th>18</th>\n",
       "      <td>Queens Fresh Meadows</td>\n",
       "      <td>3196000.0</td>\n",
       "    </tr>\n",
       "    <tr>\n",
       "      <th>19</th>\n",
       "      <td>PCVST-DIL LLC</td>\n",
       "      <td>3122165.0</td>\n",
       "    </tr>\n",
       "    <tr>\n",
       "      <th>20</th>\n",
       "      <td>Fordham University</td>\n",
       "      <td>3084187.0</td>\n",
       "    </tr>\n",
       "  </tbody>\n",
       "</table>\n",
       "</div>"
      ],
      "text/plain": [
       "                                       Owner  Sq. Footage\n",
       "Rank                                                     \n",
       "1                       Riverbay Corporation   21257474.0\n",
       "2                       Trustees Of Columbia   10405555.0\n",
       "3                                 ST-DIL LLC    8942176.0\n",
       "4                        Starrett City, Inc.    8544670.0\n",
       "5                       Rochdale Village Inc    6996835.0\n",
       "6                        New York University    6370834.0\n",
       "7                      St. John's University    4687440.0\n",
       "8               RCPI Landmark Properties LLC    4632189.0\n",
       "9             New York-Presbyterian Hospital    4581586.0\n",
       "10             North Shore Towers Apartments    3750565.0\n",
       "11                   Trinity Hudson Holdings    3694141.0\n",
       "12            Parkchester South Condominiums    3681037.0\n",
       "13              New Water Street Corporation    3583167.0\n",
       "14    New York Convention Center Corporation    3567186.0\n",
       "15                      Mount Sinai Hospital    3382972.0\n",
       "16               1-10 Bush Terminal Owner LP    3350373.0\n",
       "17               SL Green Realty Corporation    3314077.0\n",
       "18                      Queens Fresh Meadows    3196000.0\n",
       "19                             PCVST-DIL LLC    3122165.0\n",
       "20                        Fordham University    3084187.0"
      ]
     },
     "execution_count": 11,
     "metadata": {},
     "output_type": "execute_result"
    }
   ],
   "source": [
    "lpl[['Owner', 'Sq. Footage']]"
   ]
  },
  {
   "cell_type": "code",
   "execution_count": 20,
   "metadata": {
    "collapsed": false
   },
   "outputs": [],
   "source": [
    "# currently shows Columbia's property, as well a useless radio group buttion\n",
    "\n",
    "from bokeh.io import output_file, show, vform, vplot, gridplot, hplot, curdoc, output_notebook\n",
    "from bokeh.models import GMapPlot, GMapOptions, DataRange1d, ColumnDataSource, Circle, PanTool, WheelZoomTool, HoverTool, HBox, VBox, VBoxForm, BoxZoomTool\n",
    "from bokeh.models.widgets import RadioButtonGroup, Slider, Select\n",
    "\n",
    "addresses = literal_eval(wpl['Places'][1]) # for now just plot Columbia\n",
    "map_options = GMapOptions(lat=40.6773, lng=-73.9857, map_type = \"terrain\", zoom=10)\n",
    "# TODO: plot focus needs to be adjusted further to fix Bronx mapping.\n",
    "\n",
    "GMap = GMapPlot(x_range = DataRange1d(),\n",
    "                y_range = DataRange1d(),\n",
    "                map_options = map_options ,\n",
    "                title = \"Eneumerate\",\n",
    "                plot_width=960,\n",
    "                plot_height=600)\n",
    "\n",
    "lats = []\n",
    "longs = []\n",
    "names = []\n",
    "for address in addresses.keys():\n",
    "    names.append(address)\n",
    "    lats.append(addresses[address][0])\n",
    "    longs.append(addresses[address][1])\n",
    "\n",
    "Property = ColumnDataSource(data=dict(lat = lats, \n",
    "                                      lon = longs,\n",
    "                                      name = names))\n",
    "\n",
    "Address_Circle = Circle(x=\"lon\", y=\"lat\", size = 10)\n",
    "\n",
    "GMap.add_glyph( Property, Address_Circle)\n",
    "hover = HoverTool( tooltips=[(\" \", \"@name\")])\n",
    "GMap.add_tools(hover, PanTool(), WheelZoomTool(), BoxZoomTool())\n",
    "GMap.logo = None\n",
    "# GMap.toolbar_location = None\n",
    "\n",
    "radio_button_group = RadioButtonGroup(labels=[\"Enumerate\", \"Value\", \"Square Footage\"], active=0)\n",
    "\n",
    "select = Select(options=list(mepl['Owner']))\n",
    "\n",
    "def update(attrname, old, new):\n",
    "    if radio_button_group.active == 0:\n",
    "        df = mepl\n",
    "    elif radio_button_group.active == 1:\n",
    "        df = lpl\n",
    "    else:\n",
    "        df = wpl\n",
    "    addresses = literal_eval(df['Places'][1])\n",
    "    names = lats = longs = []\n",
    "    for address in addresses.keys():\n",
    "        names.append(address)\n",
    "        lats.append(addresses[address][0])\n",
    "        longs.append(addresses[address][1])\n",
    "    Property.data = dict(\n",
    "        lat = lats,\n",
    "        lon = longs,\n",
    "        name = names\n",
    "    )\n",
    "\n",
    "# for r, s in [radio_button_group, select]:\n",
    "    \n",
    "plot = vform(GMap, radio_button_group, select)\n",
    "\n",
    "for w in [radio_button_group, select]:\n",
    "    w.on_change('value', update)\n",
    "\n",
    "curdoc().add_root(HBox(children=[radio_button_group, select, plot], width=800))\n",
    "\n",
    "output_file(\"test.html\")\n",
    "# output_notebook()\n",
    "show(plot)"
   ]
  },
  {
   "cell_type": "code",
   "execution_count": 13,
   "metadata": {
    "collapsed": false
   },
   "outputs": [],
   "source": [
    "from bokeh.models import TextInput, Select\n",
    "from bokeh.plotting import Figure"
   ]
  },
  {
   "cell_type": "code",
   "execution_count": 14,
   "metadata": {
    "collapsed": false
   },
   "outputs": [],
   "source": [
    "# # Create Input controls\n",
    "# reviews = Slider(title=\"Minimum number of reviews\", value=80, start=10, end=300, step=10)\n",
    "# min_year = Slider(title=\"Year released\", start=1940, end=2014, value=1970, step=1)\n",
    "# max_year = Slider(title=\"End Year released\", start=1940, end=2014, value=2014, step=1)\n",
    "# oscars = Slider(title=\"Minimum number of Oscar wins\", start=0, end=4, value=0, step=1)\n",
    "# boxoffice = Slider(title=\"Dollars at Box Office (millions)\", start=0, end=800, value=0, step=1)\n",
    "# # genre = Select(title=\"Genre\", value=\"All\",\n",
    "# #                options=open(join(dirname(__file__), 'genres.txt')).read().split())\n",
    "# director = TextInput(title=\"Director name contains\")\n",
    "# cast = TextInput(title=\"Cast names contains\")\n",
    "# # x_axis = Select(title=\"X Axis\", options=sorted(axis_map.keys()), value=\"Tomato Meter\")\n",
    "# # y_axis = Select(title=\"Y Axis\", options=sorted(axis_map.keys()), value=\"Number of Reviews\")\n",
    "\n",
    "# # Create Column Data Source that will be used by the plot\n",
    "# source = ColumnDataSource(data=dict(x=[], y=[], color=[], title=[], year=[], revenue=[]))\n",
    "\n",
    "# hover = HoverTool(tooltips=[\n",
    "#     (\"Title\",\"@title\"),\n",
    "#     (\"Year\", \"@year\"),\n",
    "#     (\"$\", \"@revenue\")\n",
    "# ])\n",
    "\n",
    "# p = Figure(plot_height=600, plot_width=800, title=\"\", toolbar_location=None, tools=[hover])\n",
    "# p.circle(x=\"x\", y=\"y\", source=source, size=7, color=\"color\", line_color=None, fill_alpha=\"alpha\")\n",
    "\n",
    "# # def select_movies():\n",
    "# #     genre_val = genre.value\n",
    "# #     director_val = director.value.strip()\n",
    "# #     cast_val = cast.value.strip()\n",
    "# #     selected = movies[\n",
    "# #         (movies.Reviews >= reviews.value) &\n",
    "# #         (movies.BoxOffice >= (boxoffice.value * 1e6)) &\n",
    "# #         (movies.Year >= min_year.value) &\n",
    "# #         (movies.Year <= max_year.value) &\n",
    "# #         (movies.Oscars >= oscars.value)\n",
    "# #     ]\n",
    "# #     if (genre_val != \"All\"):\n",
    "# #         selected = selected[selected.Genre.str.contains(genre_val)==True]\n",
    "# #     if (director_val != \"\"):\n",
    "# #         selected = selected[selected.Director.str.contains(director_val)==True]\n",
    "# #     if (cast_val != \"\"):\n",
    "# #         selected = selected[selected.Cast.str.contains(cast_val)==True]\n",
    "# #     return selected\n",
    "\n",
    "# def update(attrname, old, new):\n",
    "#     df = select_movies()\n",
    "#     x_name = axis_map[x_axis.value]\n",
    "#     y_name = axis_map[y_axis.value]\n",
    "\n",
    "#     p.xaxis.axis_label = x_axis.value\n",
    "#     p.yaxis.axis_label = y_axis.value\n",
    "#     p.title = \"%d movies selected\" % len(df)\n",
    "#     source.data = dict(\n",
    "#         x=df[x_name],\n",
    "#         y=df[y_name],\n",
    "#         color=df[\"color\"],\n",
    "#         title=df[\"Title\"],\n",
    "#         year=df[\"Year\"],\n",
    "#         revenue=df[\"revenue\"],\n",
    "#         alpha=df[\"alpha\"],\n",
    "#     )\n",
    "\n",
    "# controls = [reviews, boxoffice, min_year, max_year, oscars, director, cast]\n",
    "# # for control in controls:\n",
    "# #     control.on_change('value', update)\n",
    "\n",
    "# inputs = HBox(VBoxForm(*controls), width=300)\n",
    "\n",
    "# # update(None, None, None) # initial load of the data\n",
    "\n",
    "# curdoc().add_root(HBox(inputs, p, width=1100))\n",
    "\n",
    "# output_file('test.html')\n",
    "\n",
    "# show(p)"
   ]
  },
  {
   "cell_type": "code",
   "execution_count": 15,
   "metadata": {
    "collapsed": false,
    "scrolled": false
   },
   "outputs": [],
   "source": [
    "# ''' Present an interactive function explorer with slider widgets.\n",
    "# Scrub the sliders to change the properties of the ``sin`` curve, or\n",
    "# type into the title text box to update the title of the plot.\n",
    "# Use the ``bokeh serve`` command to run the example by executing:\n",
    "#     bokeh serve sliders.py\n",
    "# at your command prompt. Then navigate to the URL\n",
    "#     http://localhost:5006/sliders\n",
    "# in your browser.\n",
    "# '''\n",
    "# import numpy as np\n",
    "\n",
    "# from bokeh.plotting import Figure\n",
    "# from bokeh.models import ColumnDataSource, HBox, VBoxForm\n",
    "# from bokeh.models.widgets import Slider, TextInput\n",
    "# from bokeh.io import curdoc\n",
    "\n",
    "# # Set up data\n",
    "# N = 200\n",
    "# x = np.linspace(0, 4*np.pi, N)\n",
    "# y = np.sin(x)\n",
    "# source = ColumnDataSource(data=dict(x=x, y=y))\n",
    "\n",
    "\n",
    "# # Set up plot\n",
    "# plot = Figure(plot_height=400, plot_width=400, title=\"my sine wave\",\n",
    "#               tools=\"crosshair,pan,reset,resize,save,wheel_zoom\",\n",
    "#               x_range=[0, 4*np.pi], y_range=[-2.5, 2.5])\n",
    "\n",
    "# plot.line('x', 'y', source=source, line_width=3, line_alpha=0.6)\n",
    "\n",
    "\n",
    "# # Set up widgets\n",
    "# text = TextInput(title=\"title\", value='my sine wave')\n",
    "# offset = Slider(title=\"offset\", value=0.0, start=-5.0, end=5.0, step=0.1)\n",
    "# amplitude = Slider(title=\"amplitude\", value=1.0, start=-5.0, end=5.0)\n",
    "# phase = Slider(title=\"phase\", value=0.0, start=0.0, end=2*np.pi)\n",
    "# freq = Slider(title=\"frequency\", value=1.0, start=0.1, end=5.1)\n",
    "\n",
    "\n",
    "# # Set up callbacks\n",
    "# def update_title(attrname, old, new):\n",
    "#     plot.title = text.value\n",
    "\n",
    "# text.on_change('value', update_title)\n",
    "\n",
    "# def update_data(attrname, old, new):\n",
    "\n",
    "#     # Get the current slider values\n",
    "#     a = amplitude.value\n",
    "#     b = offset.value\n",
    "#     w = phase.value\n",
    "#     k = freq.value\n",
    "\n",
    "#     # Generate the new curve\n",
    "#     x = np.linspace(0, 4*np.pi, N)\n",
    "#     y = a*np.sin(k*x + w) + b\n",
    "\n",
    "#     source.data = dict(x=x, y=y)\n",
    "\n",
    "# for w in [offset, amplitude, phase, freq]:\n",
    "#     w.on_change('value', update_data)\n",
    "\n",
    "\n",
    "# # Set up layouts and add to document\n",
    "# inputs = VBoxForm(children=[text, offset, amplitude, phase, freq])\n",
    "# layout = HBox(children=[inputs, plot], width=800)\n",
    "\n",
    "\n",
    "# curdoc().add_root(layout)\n",
    "\n",
    "# output_file('test2.html')\n",
    "# show(layout)"
   ]
  },
  {
   "cell_type": "code",
   "execution_count": null,
   "metadata": {
    "collapsed": true
   },
   "outputs": [],
   "source": []
  }
 ],
 "metadata": {
  "kernelspec": {
   "display_name": "Python 3",
   "language": "python",
   "name": "python3"
  },
  "language_info": {
   "codemirror_mode": {
    "name": "ipython",
    "version": 3
   },
   "file_extension": ".py",
   "mimetype": "text/x-python",
   "name": "python",
   "nbconvert_exporter": "python",
   "pygments_lexer": "ipython3",
   "version": "3.5.1"
  }
 },
 "nbformat": 4,
 "nbformat_minor": 0
}
