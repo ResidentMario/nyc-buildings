{
 "cells": [
  {
   "cell_type": "code",
   "execution_count": 5,
   "metadata": {
    "collapsed": false
   },
   "outputs": [],
   "source": [
    "import pandas as pd\n",
    "import geojson\n",
    "import ast\n",
    "# from bokeh.models.sources import ColumnDataSource"
   ]
  },
  {
   "cell_type": "markdown",
   "metadata": {},
   "source": [
    "    cd Desktop\n",
    "    activate nyc-buildings\n",
    "    jupyter notebook"
   ]
  },
  {
   "cell_type": "code",
   "execution_count": 120,
   "metadata": {
    "collapsed": false,
    "scrolled": true
   },
   "outputs": [],
   "source": [
    "mepl = pd.read_pickle('most_enumerate_private_landowners.p')\n",
    "wpl = pd.read_pickle('wealthiest_private_landowners.p')\n",
    "lpl = pd.read_pickle('largest_private_landowners.p')"
   ]
  },
  {
   "cell_type": "markdown",
   "metadata": {},
   "source": [
    "Due to several errors that I didn't catch the first time around I need to apply a few hotfixes."
   ]
  },
  {
   "cell_type": "code",
   "execution_count": 121,
   "metadata": {
    "collapsed": false
   },
   "outputs": [],
   "source": [
    "usbna_places = mepl['Places'][5]\n",
    "nyu_places = mepl['Places'][6]"
   ]
  },
  {
   "cell_type": "code",
   "execution_count": 122,
   "metadata": {
    "collapsed": false
   },
   "outputs": [
    {
     "name": "stderr",
     "output_type": "stream",
     "text": [
      "C:\\Users\\Alex\\Anaconda3\\envs\\nyc-buildings\\lib\\site-packages\\ipykernel\\__main__.py:2: SettingWithCopyWarning: \n",
      "A value is trying to be set on a copy of a slice from a DataFrame\n",
      "\n",
      "See the caveats in the documentation: http://pandas.pydata.org/pandas-docs/stable/indexing.html#indexing-view-versus-copy\n",
      "  from ipykernel import kernelapp as app\n",
      "C:\\Users\\Alex\\Anaconda3\\envs\\nyc-buildings\\lib\\site-packages\\ipykernel\\__main__.py:3: SettingWithCopyWarning: \n",
      "A value is trying to be set on a copy of a slice from a DataFrame\n",
      "\n",
      "See the caveats in the documentation: http://pandas.pydata.org/pandas-docs/stable/indexing.html#indexing-view-versus-copy\n",
      "  app.launch_new_instance()\n"
     ]
    }
   ],
   "source": [
    "# Ignore the warnings, as always.\n",
    "mepl['Places'][5] = nyu_places\n",
    "mepl['Places'][6] = usbna_places"
   ]
  },
  {
   "cell_type": "code",
   "execution_count": 123,
   "metadata": {
    "collapsed": false,
    "scrolled": false
   },
   "outputs": [
    {
     "data": {
      "text/html": [
       "<div>\n",
       "<table border=\"1\" class=\"dataframe\">\n",
       "  <thead>\n",
       "    <tr style=\"text-align: right;\">\n",
       "      <th></th>\n",
       "      <th>Owner</th>\n",
       "      <th>Total Value</th>\n",
       "      <th>Places</th>\n",
       "    </tr>\n",
       "    <tr>\n",
       "      <th>Rank</th>\n",
       "      <th></th>\n",
       "      <th></th>\n",
       "      <th></th>\n",
       "    </tr>\n",
       "  </thead>\n",
       "  <tbody>\n",
       "    <tr>\n",
       "      <th>1</th>\n",
       "      <td>New York University</td>\n",
       "      <td>2.260595e+09</td>\n",
       "      <td>{'51 WASHINGTON SQUARE S': [40.7304028, -73.99...</td>\n",
       "    </tr>\n",
       "    <tr>\n",
       "      <th>2</th>\n",
       "      <td>RCPI Landmark Properties LLC</td>\n",
       "      <td>1.923597e+09</td>\n",
       "      <td>{'1230 AVENUE OF THE AMER': [40.60319210000001...</td>\n",
       "    </tr>\n",
       "    <tr>\n",
       "      <th>3</th>\n",
       "      <td>Trustees Of Columbia</td>\n",
       "      <td>1.790191e+09</td>\n",
       "      <td>{'424 WEST 119 STREET': [40.8083353, -73.95926...</td>\n",
       "    </tr>\n",
       "    <tr>\n",
       "      <th>4</th>\n",
       "      <td>One Bryant Park</td>\n",
       "      <td>1.715132e+09</td>\n",
       "      <td>{'761 5 AVENUE': [40.7635701, -73.972169]}</td>\n",
       "    </tr>\n",
       "    <tr>\n",
       "      <th>5</th>\n",
       "      <td>767 Fifth Partnerns LLC</td>\n",
       "      <td>1.703963e+09</td>\n",
       "      <td>{'418 11 AVENUE': [40.7565348, -74.0014412], '...</td>\n",
       "    </tr>\n",
       "    <tr>\n",
       "      <th>6</th>\n",
       "      <td>Nnew York Convention Center Corporation</td>\n",
       "      <td>1.382477e+09</td>\n",
       "      <td>{'655 W 34 ST': [40.757349, -74.00168]}</td>\n",
       "    </tr>\n",
       "    <tr>\n",
       "      <th>7</th>\n",
       "      <td>BPP ST Owner LLC</td>\n",
       "      <td>1.360162e+09</td>\n",
       "      <td>{'123-01 ROOSEVELT AVENUE': [40.7559005, -73.8...</td>\n",
       "    </tr>\n",
       "    <tr>\n",
       "      <th>8</th>\n",
       "      <td>Citifield</td>\n",
       "      <td>1.332865e+09</td>\n",
       "      <td>{'919 3 AVENUE': [40.7589774, -73.9675898], '1...</td>\n",
       "    </tr>\n",
       "    <tr>\n",
       "      <th>9</th>\n",
       "      <td>SL Green Realty Corporation</td>\n",
       "      <td>1.327638e+09</td>\n",
       "      <td>{'620 ATLANTIC AVENUE': [40.6826571, -73.97528...</td>\n",
       "    </tr>\n",
       "    <tr>\n",
       "      <th>10</th>\n",
       "      <td>Arena Nominee Sub B, LLC</td>\n",
       "      <td>1.287854e+09</td>\n",
       "      <td>{'200 PARK AVENUE': [40.7535222, -73.9766297]}</td>\n",
       "    </tr>\n",
       "    <tr>\n",
       "      <th>11</th>\n",
       "      <td>200 Park, L.P.</td>\n",
       "      <td>1.284914e+09</td>\n",
       "      <td>NaN</td>\n",
       "    </tr>\n",
       "    <tr>\n",
       "      <th>12</th>\n",
       "      <td>1345 Leasehold LLC</td>\n",
       "      <td>1.086965e+09</td>\n",
       "      <td>{'120 WEST 55 STREET': [40.7630705, -73.9793577]}</td>\n",
       "    </tr>\n",
       "    <tr>\n",
       "      <th>13</th>\n",
       "      <td>Mount Sinai Hospital</td>\n",
       "      <td>1.025985e+09</td>\n",
       "      <td>{'19 EAST 98 STREET': [40.78889909999999, -73....</td>\n",
       "    </tr>\n",
       "    <tr>\n",
       "      <th>14</th>\n",
       "      <td>Trinity Hudson Holdings</td>\n",
       "      <td>1.020000e+09</td>\n",
       "      <td>{'1535 BROADWAY': [40.7586115, -73.98624749999...</td>\n",
       "    </tr>\n",
       "    <tr>\n",
       "      <th>15</th>\n",
       "      <td>HMC Times Square Hotel LP</td>\n",
       "      <td>1.000597e+09</td>\n",
       "      <td>{'1631 BROADWAY': [40.762109, -73.984703]}</td>\n",
       "    </tr>\n",
       "    <tr>\n",
       "      <th>16</th>\n",
       "      <td>PGREF I 1633 Broadway Tower, L.P.</td>\n",
       "      <td>9.785820e+08</td>\n",
       "      <td>{'1221 AVENUE OF THE AMER': [40.603418, -73.95...</td>\n",
       "    </tr>\n",
       "    <tr>\n",
       "      <th>17</th>\n",
       "      <td>1221 Avenue Holdings</td>\n",
       "      <td>9.759980e+08</td>\n",
       "      <td>{'245 PARK AVENUE': [40.7546095, -73.9746638]}</td>\n",
       "    </tr>\n",
       "    <tr>\n",
       "      <th>18</th>\n",
       "      <td>Bop 245 Park LLC</td>\n",
       "      <td>9.750000e+08</td>\n",
       "      <td>{'9 WEST 57 STREET': [40.7638258, -73.9749381]}</td>\n",
       "    </tr>\n",
       "    <tr>\n",
       "      <th>19</th>\n",
       "      <td>Solovieff Realty Company</td>\n",
       "      <td>9.651060e+08</td>\n",
       "      <td>{'161 FT WASHINGTON AVENUE': [40.8412728, -73....</td>\n",
       "    </tr>\n",
       "    <tr>\n",
       "      <th>20</th>\n",
       "      <td>New York-Presbyterian Hospital</td>\n",
       "      <td>9.155870e+08</td>\n",
       "      <td>NaN</td>\n",
       "    </tr>\n",
       "  </tbody>\n",
       "</table>\n",
       "</div>"
      ],
      "text/plain": [
       "                                        Owner   Total Value  \\\n",
       "Rank                                                          \n",
       "1                         New York University  2.260595e+09   \n",
       "2                RCPI Landmark Properties LLC  1.923597e+09   \n",
       "3                        Trustees Of Columbia  1.790191e+09   \n",
       "4                             One Bryant Park  1.715132e+09   \n",
       "5                     767 Fifth Partnerns LLC  1.703963e+09   \n",
       "6     Nnew York Convention Center Corporation  1.382477e+09   \n",
       "7                            BPP ST Owner LLC  1.360162e+09   \n",
       "8                                   Citifield  1.332865e+09   \n",
       "9                 SL Green Realty Corporation  1.327638e+09   \n",
       "10                   Arena Nominee Sub B, LLC  1.287854e+09   \n",
       "11                             200 Park, L.P.  1.284914e+09   \n",
       "12                         1345 Leasehold LLC  1.086965e+09   \n",
       "13                       Mount Sinai Hospital  1.025985e+09   \n",
       "14                    Trinity Hudson Holdings  1.020000e+09   \n",
       "15                  HMC Times Square Hotel LP  1.000597e+09   \n",
       "16          PGREF I 1633 Broadway Tower, L.P.  9.785820e+08   \n",
       "17                       1221 Avenue Holdings  9.759980e+08   \n",
       "18                           Bop 245 Park LLC  9.750000e+08   \n",
       "19                   Solovieff Realty Company  9.651060e+08   \n",
       "20             New York-Presbyterian Hospital  9.155870e+08   \n",
       "\n",
       "                                                 Places  \n",
       "Rank                                                     \n",
       "1     {'51 WASHINGTON SQUARE S': [40.7304028, -73.99...  \n",
       "2     {'1230 AVENUE OF THE AMER': [40.60319210000001...  \n",
       "3     {'424 WEST 119 STREET': [40.8083353, -73.95926...  \n",
       "4            {'761 5 AVENUE': [40.7635701, -73.972169]}  \n",
       "5     {'418 11 AVENUE': [40.7565348, -74.0014412], '...  \n",
       "6               {'655 W 34 ST': [40.757349, -74.00168]}  \n",
       "7     {'123-01 ROOSEVELT AVENUE': [40.7559005, -73.8...  \n",
       "8     {'919 3 AVENUE': [40.7589774, -73.9675898], '1...  \n",
       "9     {'620 ATLANTIC AVENUE': [40.6826571, -73.97528...  \n",
       "10       {'200 PARK AVENUE': [40.7535222, -73.9766297]}  \n",
       "11                                                  NaN  \n",
       "12    {'120 WEST 55 STREET': [40.7630705, -73.9793577]}  \n",
       "13    {'19 EAST 98 STREET': [40.78889909999999, -73....  \n",
       "14    {'1535 BROADWAY': [40.7586115, -73.98624749999...  \n",
       "15           {'1631 BROADWAY': [40.762109, -73.984703]}  \n",
       "16    {'1221 AVENUE OF THE AMER': [40.603418, -73.95...  \n",
       "17       {'245 PARK AVENUE': [40.7546095, -73.9746638]}  \n",
       "18      {'9 WEST 57 STREET': [40.7638258, -73.9749381]}  \n",
       "19    {'161 FT WASHINGTON AVENUE': [40.8412728, -73....  \n",
       "20                                                  NaN  "
      ]
     },
     "execution_count": 123,
     "metadata": {},
     "output_type": "execute_result"
    }
   ],
   "source": [
    "wpl"
   ]
  },
  {
   "cell_type": "code",
   "execution_count": 124,
   "metadata": {
    "collapsed": false
   },
   "outputs": [],
   "source": [
    "wpl.iloc[10, 2] = \"{'200 PARK AVENUE': [40.7535, 73.9768]}\""
   ]
  },
  {
   "cell_type": "code",
   "execution_count": 125,
   "metadata": {
    "collapsed": false
   },
   "outputs": [
    {
     "name": "stderr",
     "output_type": "stream",
     "text": [
      "C:\\Users\\Alex\\Anaconda3\\envs\\nyc-buildings\\lib\\site-packages\\ipykernel\\__main__.py:1: SettingWithCopyWarning: \n",
      "A value is trying to be set on a copy of a slice from a DataFrame\n",
      "\n",
      "See the caveats in the documentation: http://pandas.pydata.org/pandas-docs/stable/indexing.html#indexing-view-versus-copy\n",
      "  if __name__ == '__main__':\n"
     ]
    }
   ],
   "source": [
    "lpl['Places'][8] = \"{'1230 AVENUE OF THE AMERICAS': [40.758883, -73.980372], '1260 AVENUE OF THE AMERICAS': [40.75995, -73.979728]}\""
   ]
  },
  {
   "cell_type": "code",
   "execution_count": 126,
   "metadata": {
    "collapsed": false
   },
   "outputs": [
    {
     "name": "stderr",
     "output_type": "stream",
     "text": [
      "C:\\Users\\Alex\\Anaconda3\\envs\\nyc-buildings\\lib\\site-packages\\ipykernel\\__main__.py:1: SettingWithCopyWarning: \n",
      "A value is trying to be set on a copy of a slice from a DataFrame\n",
      "\n",
      "See the caveats in the documentation: http://pandas.pydata.org/pandas-docs/stable/indexing.html#indexing-view-versus-copy\n",
      "  if __name__ == '__main__':\n"
     ]
    }
   ],
   "source": [
    "wpl['Places'][20] = \"{'180 FT WASHINGTON AVENUE': [40.840707, -73.9413], '161 FT WASHINGTON AVENUE': [40.8413, -73.9435]}\""
   ]
  },
  {
   "cell_type": "code",
   "execution_count": 132,
   "metadata": {
    "collapsed": false
   },
   "outputs": [
    {
     "name": "stderr",
     "output_type": "stream",
     "text": [
      "C:\\Users\\Alex\\Anaconda3\\envs\\nyc-buildings\\lib\\site-packages\\ipykernel\\__main__.py:1: SettingWithCopyWarning: \n",
      "A value is trying to be set on a copy of a slice from a DataFrame\n",
      "\n",
      "See the caveats in the documentation: http://pandas.pydata.org/pandas-docs/stable/indexing.html#indexing-view-versus-copy\n",
      "  if __name__ == '__main__':\n"
     ]
    }
   ],
   "source": [
    "wpl['Places'][19] = \"{'200 PARK AVENUE': [40.7638, -73.9746]}\""
   ]
  },
  {
   "cell_type": "code",
   "execution_count": 133,
   "metadata": {
    "collapsed": false
   },
   "outputs": [],
   "source": [
    "# for l in [zip(mepl['Owner'], mepl['Places']), zip(lpl['Owner'], lpl['Places']), zip(wpl['Owner'], wpl['Places'])]:\n",
    "for (entity, location_set) in zip(mepl['Owner'], mepl['Places']):\n",
    "    features = []\n",
    "    for address, (latitude, longitude) in ast.literal_eval(location_set).items():\n",
    "        features.append(geojson.Feature(geometry=geojson.Point((longitude, latitude)), properties={'address': address}))\n",
    "        # print(entity, address, latitude, longitude)\n",
    "    with open('geojson/mepl/' + entity + '.geojson', 'w') as file:\n",
    "        file.write(geojson.dumps(geojson.FeatureCollection(features), sort_keys=True))\n",
    "        \n",
    "for (entity, location_set) in zip(lpl['Owner'], lpl['Places']):\n",
    "    features = []\n",
    "    for address, (latitude, longitude) in ast.literal_eval(location_set).items():\n",
    "        features.append(geojson.Feature(geometry=geojson.Point((longitude, latitude)), properties={'address': address}))\n",
    "        # print(entity, address, latitude, longitude)\n",
    "    with open('geojson/lpl/' + entity + '.geojson', 'w') as file:\n",
    "        file.write(geojson.dumps(geojson.FeatureCollection(features), sort_keys=True))\n",
    "        \n",
    "for (entity, location_set) in zip(wpl['Owner'], wpl['Places']):\n",
    "    features = []\n",
    "    for address, (latitude, longitude) in ast.literal_eval(location_set).items():\n",
    "        features.append(geojson.Feature(geometry=geojson.Point((longitude, latitude)), properties={'address': address}))\n",
    "        # print(entity, address, latitude, longitude)\n",
    "    with open('geojson/wpl/' + entity + '.geojson', 'w') as file:\n",
    "        file.write(geojson.dumps(geojson.FeatureCollection(features), sort_keys=True))"
   ]
  },
  {
   "cell_type": "code",
   "execution_count": 78,
   "metadata": {
    "collapsed": false
   },
   "outputs": [
    {
     "name": "stdout",
     "output_type": "stream",
     "text": [
      " Volume in drive C is SSD_80GB\n",
      " Volume Serial Number is 9279-00B2\n",
      "\n",
      " Directory of C:\\Users\\Alex\\Desktop\\nyc-buildings\n",
      "\n",
      "05/23/2016  08:14 PM    <DIR>          .\n",
      "05/23/2016  08:14 PM    <DIR>          ..\n",
      "05/23/2016  05:42 PM               129 .gitignore\n",
      "05/23/2016  07:51 PM    <DIR>          .idea\n",
      "05/23/2016  03:54 PM    <DIR>          .ipynb_checkpoints\n",
      "05/22/2016  11:53 AM            70,088 both-tabs-and-commas-screencap.png\n",
      "05/22/2016  11:53 AM         1,261,612 data-munging.ipynb\n",
      "05/22/2016  11:53 AM           804,913 data-scribbles.ipynb\n",
      "05/22/2016  11:53 AM           573,797 data-visualization.ipynb\n",
      "05/23/2016  08:14 PM            50,621 final-data-visualization.ipynb\n",
      "05/23/2016  07:51 PM            11,565 final-visualization.html\n",
      "05/23/2016  07:16 PM    <DIR>          geojson\n",
      "05/22/2016  11:53 AM            21,864 largest_private_landowners.p\n",
      "05/22/2016  11:53 AM            66,394 most_enumerate_private_landowners.p\n",
      "05/23/2016  04:05 PM           400,652 nyc.json\n",
      "05/22/2016  11:53 AM        14,261,259 nyc_building_sales.csv\n",
      "05/22/2016  11:53 AM            89,030 road.html\n",
      "05/22/2016  11:53 AM           211,429 rolling-sales-data-excel-screencap.png\n",
      "05/23/2016  03:47 PM            74,079 test.html\n",
      "05/22/2016  11:53 AM            17,918 wealthiest_private_landowners.p\n",
      "              15 File(s)     17,915,350 bytes\n",
      "               5 Dir(s)   9,423,065,088 bytes free\n"
     ]
    }
   ],
   "source": [
    "%ls"
   ]
  },
  {
   "cell_type": "markdown",
   "metadata": {},
   "source": [
    "According to the dataset the Rockefeller Plaza holding company is in Brooklyn..."
   ]
  },
  {
   "cell_type": "code",
   "execution_count": 20,
   "metadata": {
    "collapsed": false
   },
   "outputs": [],
   "source": [
    "# currently shows Columbia's property, as well a useless radio group buttion\n",
    "\n",
    "from bokeh.io import output_file, show, vform, vplot, gridplot, hplot, curdoc, output_notebook\n",
    "from bokeh.models import GMapPlot, GMapOptions, DataRange1d, ColumnDataSource, Circle, PanTool, WheelZoomTool, HoverTool, HBox, VBox, VBoxForm, BoxZoomTool\n",
    "from bokeh.models.widgets import RadioButtonGroup, Slider, Select\n",
    "\n",
    "addresses = literal_eval(wpl['Places'][1]) # for now just plot Columbia\n",
    "map_options = GMapOptions(lat=40.6773, lng=-73.9857, map_type = \"terrain\", zoom=10)\n",
    "# TODO: plot focus needs to be adjusted further to fix Bronx mapping.\n",
    "\n",
    "GMap = GMapPlot(x_range = DataRange1d(),\n",
    "                y_range = DataRange1d(),\n",
    "                map_options = map_options ,\n",
    "                title = \"Eneumerate\",\n",
    "                plot_width=960,\n",
    "                plot_height=600)\n",
    "\n",
    "lats = []\n",
    "longs = []\n",
    "names = []\n",
    "for address in addresses.keys():\n",
    "    names.append(address)\n",
    "    lats.append(addresses[address][0])\n",
    "    longs.append(addresses[address][1])\n",
    "\n",
    "Property = ColumnDataSource(data=dict(lat = lats, \n",
    "                                      lon = longs,\n",
    "                                      name = names))\n",
    "\n",
    "Address_Circle = Circle(x=\"lon\", y=\"lat\", size = 10)\n",
    "\n",
    "GMap.add_glyph( Property, Address_Circle)\n",
    "hover = HoverTool( tooltips=[(\" \", \"@name\")])\n",
    "GMap.add_tools(hover, PanTool(), WheelZoomTool(), BoxZoomTool())\n",
    "GMap.logo = None\n",
    "# GMap.toolbar_location = None\n",
    "\n",
    "radio_button_group = RadioButtonGroup(labels=[\"Enumerate\", \"Value\", \"Square Footage\"], active=0)\n",
    "\n",
    "select = Select(options=list(mepl['Owner']))\n",
    "\n",
    "def update(attrname, old, new):\n",
    "    if radio_button_group.active == 0:\n",
    "        df = mepl\n",
    "    elif radio_button_group.active == 1:\n",
    "        df = lpl\n",
    "    else:\n",
    "        df = wpl\n",
    "    addresses = literal_eval(df['Places'][1])\n",
    "    names = lats = longs = []\n",
    "    for address in addresses.keys():\n",
    "        names.append(address)\n",
    "        lats.append(addresses[address][0])\n",
    "        longs.append(addresses[address][1])\n",
    "    Property.data = dict(\n",
    "        lat = lats,\n",
    "        lon = longs,\n",
    "        name = names\n",
    "    )\n",
    "\n",
    "# for r, s in [radio_button_group, select]:\n",
    "    \n",
    "plot = vform(GMap, radio_button_group, select)\n",
    "\n",
    "for w in [radio_button_group, select]:\n",
    "    w.on_change('value', update)\n",
    "\n",
    "curdoc().add_root(HBox(children=[radio_button_group, select, plot], width=800))\n",
    "\n",
    "output_file(\"test.html\")\n",
    "# output_notebook()\n",
    "show(plot)"
   ]
  },
  {
   "cell_type": "code",
   "execution_count": 13,
   "metadata": {
    "collapsed": false
   },
   "outputs": [],
   "source": [
    "from bokeh.models import TextInput, Select\n",
    "from bokeh.plotting import Figure"
   ]
  },
  {
   "cell_type": "code",
   "execution_count": 14,
   "metadata": {
    "collapsed": false
   },
   "outputs": [],
   "source": [
    "# # Create Input controls\n",
    "# reviews = Slider(title=\"Minimum number of reviews\", value=80, start=10, end=300, step=10)\n",
    "# min_year = Slider(title=\"Year released\", start=1940, end=2014, value=1970, step=1)\n",
    "# max_year = Slider(title=\"End Year released\", start=1940, end=2014, value=2014, step=1)\n",
    "# oscars = Slider(title=\"Minimum number of Oscar wins\", start=0, end=4, value=0, step=1)\n",
    "# boxoffice = Slider(title=\"Dollars at Box Office (millions)\", start=0, end=800, value=0, step=1)\n",
    "# # genre = Select(title=\"Genre\", value=\"All\",\n",
    "# #                options=open(join(dirname(__file__), 'genres.txt')).read().split())\n",
    "# director = TextInput(title=\"Director name contains\")\n",
    "# cast = TextInput(title=\"Cast names contains\")\n",
    "# # x_axis = Select(title=\"X Axis\", options=sorted(axis_map.keys()), value=\"Tomato Meter\")\n",
    "# # y_axis = Select(title=\"Y Axis\", options=sorted(axis_map.keys()), value=\"Number of Reviews\")\n",
    "\n",
    "# # Create Column Data Source that will be used by the plot\n",
    "# source = ColumnDataSource(data=dict(x=[], y=[], color=[], title=[], year=[], revenue=[]))\n",
    "\n",
    "# hover = HoverTool(tooltips=[\n",
    "#     (\"Title\",\"@title\"),\n",
    "#     (\"Year\", \"@year\"),\n",
    "#     (\"$\", \"@revenue\")\n",
    "# ])\n",
    "\n",
    "# p = Figure(plot_height=600, plot_width=800, title=\"\", toolbar_location=None, tools=[hover])\n",
    "# p.circle(x=\"x\", y=\"y\", source=source, size=7, color=\"color\", line_color=None, fill_alpha=\"alpha\")\n",
    "\n",
    "# # def select_movies():\n",
    "# #     genre_val = genre.value\n",
    "# #     director_val = director.value.strip()\n",
    "# #     cast_val = cast.value.strip()\n",
    "# #     selected = movies[\n",
    "# #         (movies.Reviews >= reviews.value) &\n",
    "# #         (movies.BoxOffice >= (boxoffice.value * 1e6)) &\n",
    "# #         (movies.Year >= min_year.value) &\n",
    "# #         (movies.Year <= max_year.value) &\n",
    "# #         (movies.Oscars >= oscars.value)\n",
    "# #     ]\n",
    "# #     if (genre_val != \"All\"):\n",
    "# #         selected = selected[selected.Genre.str.contains(genre_val)==True]\n",
    "# #     if (director_val != \"\"):\n",
    "# #         selected = selected[selected.Director.str.contains(director_val)==True]\n",
    "# #     if (cast_val != \"\"):\n",
    "# #         selected = selected[selected.Cast.str.contains(cast_val)==True]\n",
    "# #     return selected\n",
    "\n",
    "# def update(attrname, old, new):\n",
    "#     df = select_movies()\n",
    "#     x_name = axis_map[x_axis.value]\n",
    "#     y_name = axis_map[y_axis.value]\n",
    "\n",
    "#     p.xaxis.axis_label = x_axis.value\n",
    "#     p.yaxis.axis_label = y_axis.value\n",
    "#     p.title = \"%d movies selected\" % len(df)\n",
    "#     source.data = dict(\n",
    "#         x=df[x_name],\n",
    "#         y=df[y_name],\n",
    "#         color=df[\"color\"],\n",
    "#         title=df[\"Title\"],\n",
    "#         year=df[\"Year\"],\n",
    "#         revenue=df[\"revenue\"],\n",
    "#         alpha=df[\"alpha\"],\n",
    "#     )\n",
    "\n",
    "# controls = [reviews, boxoffice, min_year, max_year, oscars, director, cast]\n",
    "# # for control in controls:\n",
    "# #     control.on_change('value', update)\n",
    "\n",
    "# inputs = HBox(VBoxForm(*controls), width=300)\n",
    "\n",
    "# # update(None, None, None) # initial load of the data\n",
    "\n",
    "# curdoc().add_root(HBox(inputs, p, width=1100))\n",
    "\n",
    "# output_file('test.html')\n",
    "\n",
    "# show(p)"
   ]
  },
  {
   "cell_type": "code",
   "execution_count": 15,
   "metadata": {
    "collapsed": false,
    "scrolled": false
   },
   "outputs": [],
   "source": [
    "# ''' Present an interactive function explorer with slider widgets.\n",
    "# Scrub the sliders to change the properties of the ``sin`` curve, or\n",
    "# type into the title text box to update the title of the plot.\n",
    "# Use the ``bokeh serve`` command to run the example by executing:\n",
    "#     bokeh serve sliders.py\n",
    "# at your command prompt. Then navigate to the URL\n",
    "#     http://localhost:5006/sliders\n",
    "# in your browser.\n",
    "# '''\n",
    "# import numpy as np\n",
    "\n",
    "# from bokeh.plotting import Figure\n",
    "# from bokeh.models import ColumnDataSource, HBox, VBoxForm\n",
    "# from bokeh.models.widgets import Slider, TextInput\n",
    "# from bokeh.io import curdoc\n",
    "\n",
    "# # Set up data\n",
    "# N = 200\n",
    "# x = np.linspace(0, 4*np.pi, N)\n",
    "# y = np.sin(x)\n",
    "# source = ColumnDataSource(data=dict(x=x, y=y))\n",
    "\n",
    "\n",
    "# # Set up plot\n",
    "# plot = Figure(plot_height=400, plot_width=400, title=\"my sine wave\",\n",
    "#               tools=\"crosshair,pan,reset,resize,save,wheel_zoom\",\n",
    "#               x_range=[0, 4*np.pi], y_range=[-2.5, 2.5])\n",
    "\n",
    "# plot.line('x', 'y', source=source, line_width=3, line_alpha=0.6)\n",
    "\n",
    "\n",
    "# # Set up widgets\n",
    "# text = TextInput(title=\"title\", value='my sine wave')\n",
    "# offset = Slider(title=\"offset\", value=0.0, start=-5.0, end=5.0, step=0.1)\n",
    "# amplitude = Slider(title=\"amplitude\", value=1.0, start=-5.0, end=5.0)\n",
    "# phase = Slider(title=\"phase\", value=0.0, start=0.0, end=2*np.pi)\n",
    "# freq = Slider(title=\"frequency\", value=1.0, start=0.1, end=5.1)\n",
    "\n",
    "\n",
    "# # Set up callbacks\n",
    "# def update_title(attrname, old, new):\n",
    "#     plot.title = text.value\n",
    "\n",
    "# text.on_change('value', update_title)\n",
    "\n",
    "# def update_data(attrname, old, new):\n",
    "\n",
    "#     # Get the current slider values\n",
    "#     a = amplitude.value\n",
    "#     b = offset.value\n",
    "#     w = phase.value\n",
    "#     k = freq.value\n",
    "\n",
    "#     # Generate the new curve\n",
    "#     x = np.linspace(0, 4*np.pi, N)\n",
    "#     y = a*np.sin(k*x + w) + b\n",
    "\n",
    "#     source.data = dict(x=x, y=y)\n",
    "\n",
    "# for w in [offset, amplitude, phase, freq]:\n",
    "#     w.on_change('value', update_data)\n",
    "\n",
    "\n",
    "# # Set up layouts and add to document\n",
    "# inputs = VBoxForm(children=[text, offset, amplitude, phase, freq])\n",
    "# layout = HBox(children=[inputs, plot], width=800)\n",
    "\n",
    "\n",
    "# curdoc().add_root(layout)\n",
    "\n",
    "# output_file('test2.html')\n",
    "# show(layout)"
   ]
  },
  {
   "cell_type": "code",
   "execution_count": null,
   "metadata": {
    "collapsed": true
   },
   "outputs": [],
   "source": []
  }
 ],
 "metadata": {
  "kernelspec": {
   "display_name": "Python 3",
   "language": "python",
   "name": "python3"
  },
  "language_info": {
   "codemirror_mode": {
    "name": "ipython",
    "version": 3
   },
   "file_extension": ".py",
   "mimetype": "text/x-python",
   "name": "python",
   "nbconvert_exporter": "python",
   "pygments_lexer": "ipython3",
   "version": "3.5.1"
  }
 },
 "nbformat": 4,
 "nbformat_minor": 0
}
