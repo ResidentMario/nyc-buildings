{
 "cells": [
  {
   "cell_type": "code",
   "execution_count": null,
   "metadata": {
    "collapsed": true
   },
   "outputs": [],
   "source": [
    "# Street length visualization data processing\n",
    "\n",
    "The number of addresses associated with a certain street is a distinguishable concept from that of the actual length of that street.\n",
    "\n",
    "I wanted to construct a visualization of street length by plotting streets' polylines on a map, using the public dataset of addresses in New York City. This requires the following steps:\n",
    "\n",
    "1. Taking from the raw dataset a list of all validly-named streets in New York City.\n",
    "2. Many streets are unique within a borough but not unique within the whole of New York. There are three Broadways, for instance. To handle this problem I need to cluster coordinates by the individual street that they are associated with.\n",
    "3. I need to pass those coordinates to a line generation function."
   ]
  },
  {
   "cell_type": "code",
   "execution_count": 15,
   "metadata": {
    "collapsed": false
   },
   "outputs": [],
   "source": [
    "import pandas as pd\n",
    "import numpy as np\n",
    "import seaborn as sns # hack---doing this sets the pandas plots to use seaborn styles!"
   ]
  },
  {
   "cell_type": "code",
   "execution_count": 4,
   "metadata": {
    "collapsed": true
   },
   "outputs": [],
   "source": [
    "%matplotlib inline"
   ]
  },
  {
   "cell_type": "code",
   "execution_count": 5,
   "metadata": {
    "collapsed": true
   },
   "outputs": [],
   "source": [
    "pd.set_option('display.max_columns', 500)"
   ]
  },
  {
   "cell_type": "code",
   "execution_count": 6,
   "metadata": {
    "collapsed": false
   },
   "outputs": [
    {
     "name": "stderr",
     "output_type": "stream",
     "text": [
      "/Users/Honors/anaconda/envs/nyc-buildings/lib/python3.5/site-packages/IPython/core/interactiveshell.py:2723: DtypeWarning: Columns (19,20,22,23,24,25,66,67,82) have mixed types. Specify dtype option on import or set low_memory=False.\n",
      "  interactivity=interactivity, compiler=compiler, result=result)\n"
     ]
    }
   ],
   "source": [
    "pluto = pd.read_csv('nyc_pluto.csv', index_col=0)"
   ]
  },
  {
   "cell_type": "markdown",
   "metadata": {},
   "source": [
    "# Extracting valid street names\n",
    "\n",
    "The following code extracts a list of valid street names from the raw dataset."
   ]
  },
  {
   "cell_type": "markdown",
   "metadata": {},
   "source": [
    "1. Remove entries with missing addressal information or missing coordinates.\n",
    "2. Discard addresses not containing at least one space character `' '`, signaling incompleteness.\n",
    "3. Discard the address number at the beginning of the address, if it exists. The cases are:\n",
    "  1. **Simple addresses**: `23 HANCOCK STREET`.\n",
    "  2. **Lettered addresses**: `23A HANCOCK STREET`.\n",
    "  3. **Compound addresses**: `23-42 HANCOCK STREET`."
   ]
  },
  {
   "cell_type": "code",
   "execution_count": 1,
   "metadata": {
    "collapsed": true
   },
   "outputs": [],
   "source": [
    "def discard_address_number(address_string):\n",
    "    split = address_string.split(' ')\n",
    "    cand = split[0]\n",
    "    if '-' in cand:\n",
    "        cand = address_string.split('-')[0] # We may test one side and assume it is representative.\n",
    "    try:\n",
    "        int(cand)\n",
    "        return ' '.join(split[1:])\n",
    "    except:\n",
    "        pass\n",
    "    try:\n",
    "        int(cand[:-1])\n",
    "        return ' '.join(split[1:])\n",
    "    except:\n",
    "        pass\n",
    "    return ' '.join(split[1:])"
   ]
  },
  {
   "cell_type": "code",
   "execution_count": 29,
   "metadata": {
    "collapsed": false
   },
   "outputs": [
    {
     "name": "stderr",
     "output_type": "stream",
     "text": [
      "/Users/Honors/anaconda/envs/nyc-buildings/lib/python3.5/site-packages/ipykernel/__main__.py:7: SettingWithCopyWarning: \n",
      "A value is trying to be set on a copy of a slice from a DataFrame.\n",
      "Try using .loc[row_indexer,col_indexer] = value instead\n",
      "\n",
      "See the caveats in the documentation: http://pandas.pydata.org/pandas-docs/stable/indexing.html#indexing-view-versus-copy\n"
     ]
    }
   ],
   "source": [
    "# Remove entries with missing addressal information or missing coordinates.\n",
    "filtered_pluto = pluto[(pluto['Address'].notnull()) & (pluto['XCoord'].notnull()) & (pluto['YCoord'].notnull())]\n",
    "# Discard addresses not containing at least one space character ' ', signaling incompleteness.\n",
    "filtered_pluto = pluto[pluto['Address'].map(lambda x: ' ' in str(x))]\n",
    "# Discard the address number at the beginning of the address, if it exists.\n",
    "streets = filtered_pluto['Address'].map(discard_address_number)\n",
    "filtered_pluto['Street'] = streets"
   ]
  },
  {
   "cell_type": "markdown",
   "metadata": {},
   "source": [
    "# Clustering streets\n",
    "\n",
    "After the previous step in this process we have `streets`, a set of every street name in New York City. However, street names are not unique except within a borough, so we have to apply a clustering algorithm to the streets to seperate them into seperate streets."
   ]
  },
  {
   "cell_type": "code",
   "execution_count": 16,
   "metadata": {
    "collapsed": true
   },
   "outputs": [],
   "source": [
    "import mplleaflet\n",
    "from pyproj import Proj\n",
    "import matplotlib.pyplot as plt\n",
    "import scipy\n",
    "from sklearn.cluster import DBSCAN"
   ]
  },
  {
   "cell_type": "code",
   "execution_count": 33,
   "metadata": {
    "collapsed": false
   },
   "outputs": [
    {
     "data": {
      "image/png": "[encoded data removed]",
      "text/plain": [
       "<matplotlib.figure.Figure at 0x11909d160>"
      ]
     },
     "metadata": {},
     "output_type": "display_data"
    },
    {
     "data": {
      "text/plain": [
       "<matplotlib.figure.Figure at 0x11dc1ae48>"
      ]
     },
     "metadata": {},
     "output_type": "display_data"
    }
   ],
   "source": [
    "# Extract filled Broadway coordinates.\n",
    "coords = filtered_pluto[filtered_pluto['Street'] == 'BROADWAY'][['XCoord', 'YCoord', 'Borough']]\n",
    "coords = coords[(coords['Borough'] == 'Manhattan') | (coords['Borough'] == 'Bronx')]\n",
    "coords = coords.dropna()\n",
    "# Reproject from state grid to global coordinates.\n",
    "projstr = '+proj=lcc +lat_1=40.66666666666666 +lat_2=41.03333333333333 +lat_0=40.16666666666666 +lon_0=-74 +x_0=300000 +y_0=0 +ellps=GRS80 +datum=NAD83 +to_meter=0.3048006096012192 +no_defs'\n",
    "pnyc = Proj(projstr,\n",
    "            preserve_units=True)\n",
    "coords = [pnyc(x, y, inverse=True) for x, y in zip(coords['XCoord'], coords['YCoord'])]\n",
    "\n",
    "# Plot the resulting scatter.\n",
    "plt.scatter([c[0] for c in coords], [c[1] for c in coords])\n",
    "plt.figure(figsize=(24,10))\n",
    "# mplleaflet.show()\n",
    "plt.show()"
   ]
  },
  {
   "cell_type": "code",
   "execution_count": null,
   "metadata": {
    "collapsed": true
   },
   "outputs": [],
   "source": []
  }
 ],
 "metadata": {
  "kernelspec": {
   "display_name": "Python 3",
   "language": "python",
   "name": "python3"
  },
  "language_info": {
   "codemirror_mode": {
    "name": "ipython",
    "version": 3
   },
   "file_extension": ".py",
   "mimetype": "text/x-python",
   "name": "python",
   "nbconvert_exporter": "python",
   "pygments_lexer": "ipython3",
   "version": "3.5.1"
  }
 },
 "nbformat": 4,
 "nbformat_minor": 0
}
