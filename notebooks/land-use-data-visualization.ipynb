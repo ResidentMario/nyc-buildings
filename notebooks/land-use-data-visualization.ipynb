{
 "cells": [
  {
   "cell_type": "code",
   "execution_count": 11,
   "metadata": {
    "collapsed": true
   },
   "outputs": [],
   "source": [
    "import pandas as pd\n",
    "from prettypandas import PrettyPandas\n",
    "import seaborn as sns"
   ]
  },
  {
   "cell_type": "code",
   "execution_count": 2,
   "metadata": {
    "collapsed": true
   },
   "outputs": [],
   "source": [
    "%matplotlib inline"
   ]
  },
  {
   "cell_type": "code",
   "execution_count": 3,
   "metadata": {
    "collapsed": true
   },
   "outputs": [],
   "source": [
    "pd.set_option('display.max_columns', 500)"
   ]
  },
  {
   "cell_type": "code",
   "execution_count": 4,
   "metadata": {
    "collapsed": false
   },
   "outputs": [
    {
     "name": "stderr",
     "output_type": "stream",
     "text": [
      "C:\\Users\\Alex\\Anaconda3\\envs\\nyc-buildings\\lib\\site-packages\\IPython\\core\\interactiveshell.py:2723: DtypeWarning: Columns (19,20,22,23,24,25,66,67,82) have mixed types. Specify dtype option on import or set low_memory=False.\n",
      "  interactivity=interactivity, compiler=compiler, result=result)\n"
     ]
    }
   ],
   "source": [
    "pluto = pd.read_csv('../data/nyc_pluto.csv', index_col=0)"
   ]
  },
  {
   "cell_type": "markdown",
   "metadata": {},
   "source": [
    "# Zoning\n",
    "\n",
    "Zoning is a set of regulations, set by the city government, which are designed to set limitations or directions as to what a particular lot can be used for. You wouldn't want to build an airport right next to a residential district, for example, or demolish a historical train station to build a stadium (the historical Penn Station in Midtown Manhattan, a second Grand Central, was demolished in the 1960s to make way for Madison Square Garden). The art of managing the growth of a city is to a large extent the art of managing its zoning, and this task has a whole complicated language&mdash;zoning districts, setbacks, floor area ratios, and so on&mdash;which is the peculiar domain of the lawyers, real estate developers, and architects.\n",
    "\n",
    "If this somehow piques your interest, the New York City government portal has [a very readable and comprehensive summary on zoning in the city](http://www1.nyc.gov/site/planning/zoning/about-zoning.page).\n",
    "\n",
    "For our purposes we will distinguish between residential, commercial, manufacturing, and park districts. We exclude areas without zonining, slot mixed manufacturing/residential zones into residential (because if you're still trying to manufacture something in New York City you're nuts), and ignore two especially special zoning areas, one in Queens, one [Battery Park City](https://en.wikipedia.org/wiki/Battery_Park_City), which apparently defy easy classification. We'll take the largest zone attached to an address (there can be multiple). We will ignore limited height districts, special zoning districts, [...]\n",
    "\n",
    "You know what? None of this is really necessary. `LandUse` fullfills this category a million times better!"
   ]
  },
  {
   "cell_type": "markdown",
   "metadata": {},
   "source": [
    "# Land use"
   ]
  },
  {
   "cell_type": "code",
   "execution_count": 5,
   "metadata": {
    "collapsed": true
   },
   "outputs": [],
   "source": [
    "ownership_by_type = pluto['OwnerType'].value_counts(dropna=False)\n",
    "ownership_by_type['P'] += ownership_by_type[ownership_by_type.isnull().values[0]]\n",
    "ownership_by_type = ownership_by_type[1:]\n",
    "ownership_type_map = {  'P': 'Private',\n",
    "                        'C': 'Public',\n",
    "                        'M': 'Mixed',\n",
    "                        'O': 'Public',\n",
    "                        'X': 'Mixed'\n",
    "                     }\n",
    "ownership_by_type.index = [ownership_type_map[x] for x in ownership_by_type.index]\n",
    "ownership_by_type = ownership_by_type.groupby([ownership_by_type.index]).sum().sort_values(ascending=False)\n",
    "ownership_by_type = ownership_by_type.map(lambda x: x / 859464 * 100)\n",
    "ownership_by_type.name = '%'\n",
    "ownership_by_type.index.name = 'Use'"
   ]
  },
  {
   "cell_type": "code",
   "execution_count": 8,
   "metadata": {
    "collapsed": false
   },
   "outputs": [
    {
     "data": {
      "text/html": [
       "\n",
       "        <style  type=\"text/css\" >\n",
       "        \n",
       "            #T_47f99718_238f_11e6_8e11_60a44c624f7b th {\n",
       "            \n",
       "                background: #eee;\n",
       "            \n",
       "                font-weight: 500;\n",
       "            \n",
       "            }\n",
       "        \n",
       "            #T_47f99718_238f_11e6_8e11_60a44c624f7b td {\n",
       "            \n",
       "                text-align: right;\n",
       "            \n",
       "                min-width: 3em;\n",
       "            \n",
       "            }\n",
       "        \n",
       "            #T_47f99718_238f_11e6_8e11_60a44c624f7b * {\n",
       "            \n",
       "                border-color: #c0c0c0;\n",
       "            \n",
       "            }\n",
       "        \n",
       "            #T_47f99718_238f_11e6_8e11_60a44c624f7b tr:nth-child(4) {\n",
       "            \n",
       "                background: #eee;\n",
       "            \n",
       "                font-weight: 500;\n",
       "            \n",
       "            }\n",
       "        \n",
       "        \n",
       "        </style>\n",
       "\n",
       "        <table id=\"T_47f99718_238f_11e6_8e11_60a44c624f7b\" None>\n",
       "        \n",
       "\n",
       "        <thead>\n",
       "            \n",
       "            <tr>\n",
       "                \n",
       "                <th class=\"blank\">\n",
       "                \n",
       "                <th class=\"col_heading level0 col0\">%\n",
       "                \n",
       "            </tr>\n",
       "            \n",
       "            <tr>\n",
       "                \n",
       "                <th class=\"col_heading level2 col0\">Use\n",
       "                \n",
       "                <th class=\"blank\">\n",
       "                \n",
       "            </tr>\n",
       "            \n",
       "        </thead>\n",
       "        <tbody>\n",
       "            \n",
       "            <tr>\n",
       "                \n",
       "                <th id=\"T_47f99718_238f_11e6_8e11_60a44c624f7b\" class=\"row_heading level0 row0\">\n",
       "                    Private\n",
       "                \n",
       "                <td id=\"T_47f99718_238f_11e6_8e11_60a44c624f7brow0_col0\" class=\"data row0 col0\">\n",
       "                    97.1937\n",
       "                \n",
       "            </tr>\n",
       "            \n",
       "            <tr>\n",
       "                \n",
       "                <th id=\"T_47f99718_238f_11e6_8e11_60a44c624f7b\" class=\"row_heading level0 row1\">\n",
       "                    Public\n",
       "                \n",
       "                <td id=\"T_47f99718_238f_11e6_8e11_60a44c624f7brow1_col0\" class=\"data row1 col0\">\n",
       "                    1.73887\n",
       "                \n",
       "            </tr>\n",
       "            \n",
       "            <tr>\n",
       "                \n",
       "                <th id=\"T_47f99718_238f_11e6_8e11_60a44c624f7b\" class=\"row_heading level0 row2\">\n",
       "                    Mixed\n",
       "                \n",
       "                <td id=\"T_47f99718_238f_11e6_8e11_60a44c624f7brow2_col0\" class=\"data row2 col0\">\n",
       "                    1.03727\n",
       "                \n",
       "            </tr>\n",
       "            \n",
       "            <tr>\n",
       "                \n",
       "                <th id=\"T_47f99718_238f_11e6_8e11_60a44c624f7b\" class=\"row_heading level0 row3\">\n",
       "                    Total\n",
       "                \n",
       "                <td id=\"T_47f99718_238f_11e6_8e11_60a44c624f7brow3_col0\" class=\"data row3 col0\">\n",
       "                    99.9699\n",
       "                \n",
       "            </tr>\n",
       "            \n",
       "        </tbody>\n",
       "        </table>\n",
       "        "
      ],
      "text/plain": [
       "<prettypandas.styler.PrettyPandas at 0x11eb1048>"
      ]
     },
     "execution_count": 8,
     "metadata": {},
     "output_type": "execute_result"
    }
   ],
   "source": [
    "PrettyPandas(ownership_by_type).total()"
   ]
  },
  {
   "cell_type": "code",
   "execution_count": 9,
   "metadata": {
    "collapsed": true
   },
   "outputs": [],
   "source": [
    "codes = {1: 'One/Two-Family',\n",
    "         2: 'Multi-Family Walkup',\n",
    "         3: 'Multi-Family Elevator',\n",
    "         4: 'Mixed Residential/Commercial',\n",
    "         5: 'Commercial/Office',\n",
    "         6: 'Industrial',\n",
    "         7: 'Transport/Utility',\n",
    "         8: 'Public Facility',\n",
    "         9: 'Open/Green Space',\n",
    "         10: 'Parking Lot',\n",
    "         11: 'Vacant'}\n",
    "\n",
    "land_use_data = pluto['LandUse'][pluto['LandUse'].notnull()].map(lambda x: codes[x]).value_counts()"
   ]
  },
  {
   "cell_type": "code",
   "execution_count": 12,
   "metadata": {
    "collapsed": false
   },
   "outputs": [
    {
     "data": {
      "text/plain": [
       "<matplotlib.axes._subplots.AxesSubplot at 0x94f8b00>"
      ]
     },
     "execution_count": 12,
     "metadata": {},
     "output_type": "execute_result"
    },
    {
     "data": {
      "image/png": "[encoded data removed]",
      "text/plain": [
       "<matplotlib.figure.Figure at 0x94dc400>"
      ]
     },
     "metadata": {},
     "output_type": "display_data"
    }
   ],
   "source": [
    "land_use_data.plot(kind='bar')"
   ]
  },
  {
   "cell_type": "markdown",
   "metadata": {},
   "source": [
    "# Easements\n",
    "\n",
    "The most curious case, trying to find that one with the most easements."
   ]
  },
  {
   "cell_type": "code",
   "execution_count": 14,
   "metadata": {
    "collapsed": false
   },
   "outputs": [],
   "source": [
    "easements = pluto['Easements'].value_counts()\n",
    "easements.index = [int(float(s)) for s in easements.index]\n",
    "easements = easements.groupby(easements.index).sum().sort_index()"
   ]
  },
  {
   "cell_type": "code",
   "execution_count": 15,
   "metadata": {
    "collapsed": false
   },
   "outputs": [
    {
     "data": {
      "text/plain": [
       "0     849701\n",
       "1       8621\n",
       "2        191\n",
       "3         62\n",
       "4         17\n",
       "5          9\n",
       "6          3\n",
       "7          1\n",
       "8        443\n",
       "9          1\n",
       "15        11\n",
       "28       145\n",
       "Name: Easements, dtype: int64"
      ]
     },
     "execution_count": 15,
     "metadata": {},
     "output_type": "execute_result"
    }
   ],
   "source": [
    "easements"
   ]
  }
 ],
 "metadata": {
  "anaconda-cloud": {},
  "kernelspec": {
   "display_name": "Python [default]",
   "language": "python",
   "name": "python3"
  },
  "language_info": {
   "codemirror_mode": {
    "name": "ipython",
    "version": 3
   },
   "file_extension": ".py",
   "mimetype": "text/x-python",
   "name": "python",
   "nbconvert_exporter": "python",
   "pygments_lexer": "ipython3",
   "version": "3.5.2"
  }
 },
 "nbformat": 4,
 "nbformat_minor": 0
}
